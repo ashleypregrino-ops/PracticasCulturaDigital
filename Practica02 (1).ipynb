{
  "cells": [
    {
      "cell_type": "markdown",
      "source": [
        "# **Variables y tipos de datos 📦**"
      ],
      "metadata": {
        "id": "jNbwE_UUdaJn"
      },
      "id": "jNbwE_UUdaJn"
    },
    {
      "cell_type": "markdown",
      "source": [
        "### **¿Qué es una variable?**\n",
        "\n",
        "Una variable es un espacio en memoria que usamos para almacenar información; de forma abstracta puedes verla como una “caja” con nombre la cual contiene al dato. Los tipos más conocidos son:\n",
        "\n",
        "<p style=\"text-align:center;\">\n",
        "\n",
        "| Tipo    | Ejemplo          | Descripción                           |\n",
        "| ------- | ---------------- | ------------------------------------- |\n",
        "| `int`   | `10`             | Números enteros                       |\n",
        "| `float` | `3.14`           | Números decimales                     |\n",
        "| `str`   | `\"Hola\"`         | Cadenas de texto                      |\n",
        "</p>\n",
        "\n",
        "En Python no es necesario declarar el tipo de una variable, el intérprete lo deduce automáticamente a partir del valor que le asignas."
      ],
      "metadata": {
        "id": "VvafaGl2r5G0"
      },
      "id": "VvafaGl2r5G0"
    },
    {
      "cell_type": "code",
      "execution_count": null,
      "metadata": {
        "id": "mxDm6xA_ckqr"
      },
      "outputs": [],
      "source": [
        "entero = 10\n",
        "print(type(entero))\n",
        "flotante = 3.14\n",
        "print(type(flotante))\n",
        "palabra = \"Hola\"\n",
        "print(type(palabra))"
      ],
      "id": "mxDm6xA_ckqr"
    },
    {
      "cell_type": "markdown",
      "id": "04677e67",
      "metadata": {
        "id": "04677e67"
      },
      "source": [
        "# 🐍 Ejercicios de Input y Conversión de Datos en Python\n",
        "\n",
        "Responde directamente en las celdas de código. Cada ejercicio indica lo que debes hacer."
      ]
    },
    {
      "cell_type": "markdown",
      "id": "5261b6c9",
      "metadata": {
        "id": "5261b6c9"
      },
      "source": [
        "### Ejercicio 1: Suma de dos números\n",
        "Pide al usuario dos números y muestra la suma de ambos."
      ]
    },
    {
      "cell_type": "code",
      "execution_count": 1,
      "id": "b747aa21",
      "metadata": {
        "id": "b747aa21",
        "colab": {
          "base_uri": "https://localhost:8080/"
        },
        "outputId": "ac6d46f3-48df-48b2-95b2-63becdc1eb51"
      },
      "outputs": [
        {
          "output_type": "stream",
          "name": "stdout",
          "text": [
            "numero5\n",
            "numero5\n",
            "10\n"
          ]
        }
      ],
      "source": [
        "# Escribe tu código aquí\n",
        "var1=int(input('numero'))\n",
        "var2=int(input('numero'))\n",
        "print(var1+var2)"
      ]
    },
    {
      "cell_type": "markdown",
      "id": "259eb526",
      "metadata": {
        "id": "259eb526"
      },
      "source": [
        "### Ejercicio 2: Edad el próximo año\n",
        "Pide al usuario su edad y muestra cuántos años tendrá el próximo año."
      ]
    },
    {
      "cell_type": "code",
      "execution_count": 2,
      "id": "be875d20",
      "metadata": {
        "id": "be875d20",
        "colab": {
          "base_uri": "https://localhost:8080/"
        },
        "outputId": "e0c6b5c4-900a-450b-e328-d7e8fd01c2f4"
      },
      "outputs": [
        {
          "output_type": "stream",
          "name": "stdout",
          "text": [
            "Dime tu edad15\n",
            "16\n"
          ]
        }
      ],
      "source": [
        "# Escribe tu código aquí\n",
        "var1=int(input('Dime tu edad'))\n",
        "var2=int(1)\n",
        "print(var1+var2)"
      ]
    },
    {
      "cell_type": "markdown",
      "id": "500d1025",
      "metadata": {
        "id": "500d1025"
      },
      "source": [
        "### Ejercicio 3: Nombre completo\n",
        "Pide al usuario su nombre y apellido, y muestra el nombre completo."
      ]
    },
    {
      "cell_type": "code",
      "execution_count": 4,
      "id": "09d23768",
      "metadata": {
        "id": "09d23768",
        "colab": {
          "base_uri": "https://localhost:8080/"
        },
        "outputId": "9f535d45-e97e-416e-8575-f029a3324399"
      },
      "outputs": [
        {
          "output_type": "stream",
          "name": "stdout",
          "text": [
            "nombre:Emmett \n",
            "apellido:Peregrino\n",
            "Emmett Peregrino\n"
          ]
        }
      ],
      "source": [
        "# Escribe tu código aquí\n",
        "var1=(input('nombre:'))\n",
        "var2=(input('apellido:'))\n",
        "print(var1+var2)"
      ]
    },
    {
      "cell_type": "markdown",
      "id": "264da48a",
      "metadata": {
        "id": "264da48a"
      },
      "source": [
        "### Ejercicio 4: Calcular precio total\n",
        "Pide al usuario el precio de un producto y la cantidad que va a comprar, luego muestra el total a pagar."
      ]
    },
    {
      "cell_type": "code",
      "execution_count": 5,
      "id": "4bb9c723",
      "metadata": {
        "id": "4bb9c723",
        "colab": {
          "base_uri": "https://localhost:8080/"
        },
        "outputId": "ebfdbc34-2cad-4784-bc6c-50edf5ac6923"
      },
      "outputs": [
        {
          "output_type": "stream",
          "name": "stdout",
          "text": [
            "Precio del producto:10\n",
            "Cantidad que va a comprar:5\n",
            "50\n"
          ]
        }
      ],
      "source": [
        "# Escribe tu código aquí\n",
        "var1=int(input('Precio del producto:'))\n",
        "var2=int(input('Cantidad que va a comprar:'))\n",
        "print(var1*var2)"
      ]
    },
    {
      "cell_type": "markdown",
      "id": "5bb95243",
      "metadata": {
        "id": "5bb95243"
      },
      "source": [
        "### Ejercicio 5: Convertir minutos a segundos\n",
        "Pide al usuario una cantidad de minutos y muestra cuántos segundos equivalen."
      ]
    },
    {
      "cell_type": "code",
      "execution_count": 6,
      "id": "8be4e619",
      "metadata": {
        "id": "8be4e619",
        "colab": {
          "base_uri": "https://localhost:8080/"
        },
        "outputId": "1d8b181b-550b-49b2-ad52-f2a6eaccc90a"
      },
      "outputs": [
        {
          "output_type": "stream",
          "name": "stdout",
          "text": [
            "cantidad de minutos:7\n",
            "420\n"
          ]
        }
      ],
      "source": [
        "# Escribe tu código aquí\n",
        "var1=int(input('cantidad de minutos:'))\n",
        "var2=int(60)\n",
        "print(var1*var2)"
      ]
    }
  ],
  "metadata": {
    "colab": {
      "provenance": []
    },
    "language_info": {
      "name": "python"
    },
    "kernelspec": {
      "name": "python3",
      "display_name": "Python 3"
    }
  },
  "nbformat": 4,
  "nbformat_minor": 5
}